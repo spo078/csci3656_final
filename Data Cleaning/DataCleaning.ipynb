{
 "cells": [
  {
   "cell_type": "code",
   "execution_count": 1,
   "id": "e9f994ba-7005-4c96-b0ca-beaa9bcd352d",
   "metadata": {},
   "outputs": [],
   "source": [
    "import pandas as pd\n",
    "import numpy as np\n",
    "from scipy.stats import zscore\n",
    "import matplotlib.pyplot as plt\n",
    "import seaborn as sns\n",
    "import os"
   ]
  },
  {
   "cell_type": "markdown",
   "id": "2325357a-e69f-4fe9-bf87-e521018212ba",
   "metadata": {},
   "source": [
    "# Load Data"
   ]
  },
  {
   "cell_type": "code",
   "execution_count": 2,
   "id": "ff987e99-bf19-4da2-a600-8dd4075392f1",
   "metadata": {},
   "outputs": [
    {
     "ename": "FileNotFoundError",
     "evalue": "[Errno 2] No such file or directory: 'MMADataset2023/ufc_event_data.csv'",
     "output_type": "error",
     "traceback": [
      "\u001b[0;31m---------------------------------------------------------------------------\u001b[0m",
      "\u001b[0;31mFileNotFoundError\u001b[0m                         Traceback (most recent call last)",
      "Cell \u001b[0;32mIn[2], line 1\u001b[0m\n\u001b[0;32m----> 1\u001b[0m event_data \u001b[38;5;241m=\u001b[39m \u001b[43mpd\u001b[49m\u001b[38;5;241;43m.\u001b[39;49m\u001b[43mread_csv\u001b[49m\u001b[43m(\u001b[49m\u001b[38;5;124;43m'\u001b[39;49m\u001b[38;5;124;43mMMADataset2023/ufc_event_data.csv\u001b[39;49m\u001b[38;5;124;43m'\u001b[39;49m\u001b[43m)\u001b[49m\n\u001b[1;32m      2\u001b[0m fight_data \u001b[38;5;241m=\u001b[39m pd\u001b[38;5;241m.\u001b[39mread_csv(\u001b[38;5;124m'\u001b[39m\u001b[38;5;124mMMADataset2023/ufc_fight_data.csv\u001b[39m\u001b[38;5;124m'\u001b[39m)\n\u001b[1;32m      3\u001b[0m fight_stat_data \u001b[38;5;241m=\u001b[39m pd\u001b[38;5;241m.\u001b[39mread_csv(\u001b[38;5;124m'\u001b[39m\u001b[38;5;124mMMADataset2023/ufc_fight_stat_data.csv\u001b[39m\u001b[38;5;124m'\u001b[39m)\n",
      "File \u001b[0;32m/opt/conda/lib/python3.10/site-packages/pandas/util/_decorators.py:211\u001b[0m, in \u001b[0;36mdeprecate_kwarg.<locals>._deprecate_kwarg.<locals>.wrapper\u001b[0;34m(*args, **kwargs)\u001b[0m\n\u001b[1;32m    209\u001b[0m     \u001b[38;5;28;01melse\u001b[39;00m:\n\u001b[1;32m    210\u001b[0m         kwargs[new_arg_name] \u001b[38;5;241m=\u001b[39m new_arg_value\n\u001b[0;32m--> 211\u001b[0m \u001b[38;5;28;01mreturn\u001b[39;00m \u001b[43mfunc\u001b[49m\u001b[43m(\u001b[49m\u001b[38;5;241;43m*\u001b[39;49m\u001b[43margs\u001b[49m\u001b[43m,\u001b[49m\u001b[43m \u001b[49m\u001b[38;5;241;43m*\u001b[39;49m\u001b[38;5;241;43m*\u001b[39;49m\u001b[43mkwargs\u001b[49m\u001b[43m)\u001b[49m\n",
      "File \u001b[0;32m/opt/conda/lib/python3.10/site-packages/pandas/util/_decorators.py:331\u001b[0m, in \u001b[0;36mdeprecate_nonkeyword_arguments.<locals>.decorate.<locals>.wrapper\u001b[0;34m(*args, **kwargs)\u001b[0m\n\u001b[1;32m    325\u001b[0m \u001b[38;5;28;01mif\u001b[39;00m \u001b[38;5;28mlen\u001b[39m(args) \u001b[38;5;241m>\u001b[39m num_allow_args:\n\u001b[1;32m    326\u001b[0m     warnings\u001b[38;5;241m.\u001b[39mwarn(\n\u001b[1;32m    327\u001b[0m         msg\u001b[38;5;241m.\u001b[39mformat(arguments\u001b[38;5;241m=\u001b[39m_format_argument_list(allow_args)),\n\u001b[1;32m    328\u001b[0m         \u001b[38;5;167;01mFutureWarning\u001b[39;00m,\n\u001b[1;32m    329\u001b[0m         stacklevel\u001b[38;5;241m=\u001b[39mfind_stack_level(),\n\u001b[1;32m    330\u001b[0m     )\n\u001b[0;32m--> 331\u001b[0m \u001b[38;5;28;01mreturn\u001b[39;00m \u001b[43mfunc\u001b[49m\u001b[43m(\u001b[49m\u001b[38;5;241;43m*\u001b[39;49m\u001b[43margs\u001b[49m\u001b[43m,\u001b[49m\u001b[43m \u001b[49m\u001b[38;5;241;43m*\u001b[39;49m\u001b[38;5;241;43m*\u001b[39;49m\u001b[43mkwargs\u001b[49m\u001b[43m)\u001b[49m\n",
      "File \u001b[0;32m/opt/conda/lib/python3.10/site-packages/pandas/io/parsers/readers.py:950\u001b[0m, in \u001b[0;36mread_csv\u001b[0;34m(filepath_or_buffer, sep, delimiter, header, names, index_col, usecols, squeeze, prefix, mangle_dupe_cols, dtype, engine, converters, true_values, false_values, skipinitialspace, skiprows, skipfooter, nrows, na_values, keep_default_na, na_filter, verbose, skip_blank_lines, parse_dates, infer_datetime_format, keep_date_col, date_parser, dayfirst, cache_dates, iterator, chunksize, compression, thousands, decimal, lineterminator, quotechar, quoting, doublequote, escapechar, comment, encoding, encoding_errors, dialect, error_bad_lines, warn_bad_lines, on_bad_lines, delim_whitespace, low_memory, memory_map, float_precision, storage_options)\u001b[0m\n\u001b[1;32m    935\u001b[0m kwds_defaults \u001b[38;5;241m=\u001b[39m _refine_defaults_read(\n\u001b[1;32m    936\u001b[0m     dialect,\n\u001b[1;32m    937\u001b[0m     delimiter,\n\u001b[0;32m   (...)\u001b[0m\n\u001b[1;32m    946\u001b[0m     defaults\u001b[38;5;241m=\u001b[39m{\u001b[38;5;124m\"\u001b[39m\u001b[38;5;124mdelimiter\u001b[39m\u001b[38;5;124m\"\u001b[39m: \u001b[38;5;124m\"\u001b[39m\u001b[38;5;124m,\u001b[39m\u001b[38;5;124m\"\u001b[39m},\n\u001b[1;32m    947\u001b[0m )\n\u001b[1;32m    948\u001b[0m kwds\u001b[38;5;241m.\u001b[39mupdate(kwds_defaults)\n\u001b[0;32m--> 950\u001b[0m \u001b[38;5;28;01mreturn\u001b[39;00m \u001b[43m_read\u001b[49m\u001b[43m(\u001b[49m\u001b[43mfilepath_or_buffer\u001b[49m\u001b[43m,\u001b[49m\u001b[43m \u001b[49m\u001b[43mkwds\u001b[49m\u001b[43m)\u001b[49m\n",
      "File \u001b[0;32m/opt/conda/lib/python3.10/site-packages/pandas/io/parsers/readers.py:605\u001b[0m, in \u001b[0;36m_read\u001b[0;34m(filepath_or_buffer, kwds)\u001b[0m\n\u001b[1;32m    602\u001b[0m _validate_names(kwds\u001b[38;5;241m.\u001b[39mget(\u001b[38;5;124m\"\u001b[39m\u001b[38;5;124mnames\u001b[39m\u001b[38;5;124m\"\u001b[39m, \u001b[38;5;28;01mNone\u001b[39;00m))\n\u001b[1;32m    604\u001b[0m \u001b[38;5;66;03m# Create the parser.\u001b[39;00m\n\u001b[0;32m--> 605\u001b[0m parser \u001b[38;5;241m=\u001b[39m \u001b[43mTextFileReader\u001b[49m\u001b[43m(\u001b[49m\u001b[43mfilepath_or_buffer\u001b[49m\u001b[43m,\u001b[49m\u001b[43m \u001b[49m\u001b[38;5;241;43m*\u001b[39;49m\u001b[38;5;241;43m*\u001b[39;49m\u001b[43mkwds\u001b[49m\u001b[43m)\u001b[49m\n\u001b[1;32m    607\u001b[0m \u001b[38;5;28;01mif\u001b[39;00m chunksize \u001b[38;5;129;01mor\u001b[39;00m iterator:\n\u001b[1;32m    608\u001b[0m     \u001b[38;5;28;01mreturn\u001b[39;00m parser\n",
      "File \u001b[0;32m/opt/conda/lib/python3.10/site-packages/pandas/io/parsers/readers.py:1442\u001b[0m, in \u001b[0;36mTextFileReader.__init__\u001b[0;34m(self, f, engine, **kwds)\u001b[0m\n\u001b[1;32m   1439\u001b[0m     \u001b[38;5;28mself\u001b[39m\u001b[38;5;241m.\u001b[39moptions[\u001b[38;5;124m\"\u001b[39m\u001b[38;5;124mhas_index_names\u001b[39m\u001b[38;5;124m\"\u001b[39m] \u001b[38;5;241m=\u001b[39m kwds[\u001b[38;5;124m\"\u001b[39m\u001b[38;5;124mhas_index_names\u001b[39m\u001b[38;5;124m\"\u001b[39m]\n\u001b[1;32m   1441\u001b[0m \u001b[38;5;28mself\u001b[39m\u001b[38;5;241m.\u001b[39mhandles: IOHandles \u001b[38;5;241m|\u001b[39m \u001b[38;5;28;01mNone\u001b[39;00m \u001b[38;5;241m=\u001b[39m \u001b[38;5;28;01mNone\u001b[39;00m\n\u001b[0;32m-> 1442\u001b[0m \u001b[38;5;28mself\u001b[39m\u001b[38;5;241m.\u001b[39m_engine \u001b[38;5;241m=\u001b[39m \u001b[38;5;28;43mself\u001b[39;49m\u001b[38;5;241;43m.\u001b[39;49m\u001b[43m_make_engine\u001b[49m\u001b[43m(\u001b[49m\u001b[43mf\u001b[49m\u001b[43m,\u001b[49m\u001b[43m \u001b[49m\u001b[38;5;28;43mself\u001b[39;49m\u001b[38;5;241;43m.\u001b[39;49m\u001b[43mengine\u001b[49m\u001b[43m)\u001b[49m\n",
      "File \u001b[0;32m/opt/conda/lib/python3.10/site-packages/pandas/io/parsers/readers.py:1735\u001b[0m, in \u001b[0;36mTextFileReader._make_engine\u001b[0;34m(self, f, engine)\u001b[0m\n\u001b[1;32m   1733\u001b[0m     \u001b[38;5;28;01mif\u001b[39;00m \u001b[38;5;124m\"\u001b[39m\u001b[38;5;124mb\u001b[39m\u001b[38;5;124m\"\u001b[39m \u001b[38;5;129;01mnot\u001b[39;00m \u001b[38;5;129;01min\u001b[39;00m mode:\n\u001b[1;32m   1734\u001b[0m         mode \u001b[38;5;241m+\u001b[39m\u001b[38;5;241m=\u001b[39m \u001b[38;5;124m\"\u001b[39m\u001b[38;5;124mb\u001b[39m\u001b[38;5;124m\"\u001b[39m\n\u001b[0;32m-> 1735\u001b[0m \u001b[38;5;28mself\u001b[39m\u001b[38;5;241m.\u001b[39mhandles \u001b[38;5;241m=\u001b[39m \u001b[43mget_handle\u001b[49m\u001b[43m(\u001b[49m\n\u001b[1;32m   1736\u001b[0m \u001b[43m    \u001b[49m\u001b[43mf\u001b[49m\u001b[43m,\u001b[49m\n\u001b[1;32m   1737\u001b[0m \u001b[43m    \u001b[49m\u001b[43mmode\u001b[49m\u001b[43m,\u001b[49m\n\u001b[1;32m   1738\u001b[0m \u001b[43m    \u001b[49m\u001b[43mencoding\u001b[49m\u001b[38;5;241;43m=\u001b[39;49m\u001b[38;5;28;43mself\u001b[39;49m\u001b[38;5;241;43m.\u001b[39;49m\u001b[43moptions\u001b[49m\u001b[38;5;241;43m.\u001b[39;49m\u001b[43mget\u001b[49m\u001b[43m(\u001b[49m\u001b[38;5;124;43m\"\u001b[39;49m\u001b[38;5;124;43mencoding\u001b[39;49m\u001b[38;5;124;43m\"\u001b[39;49m\u001b[43m,\u001b[49m\u001b[43m \u001b[49m\u001b[38;5;28;43;01mNone\u001b[39;49;00m\u001b[43m)\u001b[49m\u001b[43m,\u001b[49m\n\u001b[1;32m   1739\u001b[0m \u001b[43m    \u001b[49m\u001b[43mcompression\u001b[49m\u001b[38;5;241;43m=\u001b[39;49m\u001b[38;5;28;43mself\u001b[39;49m\u001b[38;5;241;43m.\u001b[39;49m\u001b[43moptions\u001b[49m\u001b[38;5;241;43m.\u001b[39;49m\u001b[43mget\u001b[49m\u001b[43m(\u001b[49m\u001b[38;5;124;43m\"\u001b[39;49m\u001b[38;5;124;43mcompression\u001b[39;49m\u001b[38;5;124;43m\"\u001b[39;49m\u001b[43m,\u001b[49m\u001b[43m \u001b[49m\u001b[38;5;28;43;01mNone\u001b[39;49;00m\u001b[43m)\u001b[49m\u001b[43m,\u001b[49m\n\u001b[1;32m   1740\u001b[0m \u001b[43m    \u001b[49m\u001b[43mmemory_map\u001b[49m\u001b[38;5;241;43m=\u001b[39;49m\u001b[38;5;28;43mself\u001b[39;49m\u001b[38;5;241;43m.\u001b[39;49m\u001b[43moptions\u001b[49m\u001b[38;5;241;43m.\u001b[39;49m\u001b[43mget\u001b[49m\u001b[43m(\u001b[49m\u001b[38;5;124;43m\"\u001b[39;49m\u001b[38;5;124;43mmemory_map\u001b[39;49m\u001b[38;5;124;43m\"\u001b[39;49m\u001b[43m,\u001b[49m\u001b[43m \u001b[49m\u001b[38;5;28;43;01mFalse\u001b[39;49;00m\u001b[43m)\u001b[49m\u001b[43m,\u001b[49m\n\u001b[1;32m   1741\u001b[0m \u001b[43m    \u001b[49m\u001b[43mis_text\u001b[49m\u001b[38;5;241;43m=\u001b[39;49m\u001b[43mis_text\u001b[49m\u001b[43m,\u001b[49m\n\u001b[1;32m   1742\u001b[0m \u001b[43m    \u001b[49m\u001b[43merrors\u001b[49m\u001b[38;5;241;43m=\u001b[39;49m\u001b[38;5;28;43mself\u001b[39;49m\u001b[38;5;241;43m.\u001b[39;49m\u001b[43moptions\u001b[49m\u001b[38;5;241;43m.\u001b[39;49m\u001b[43mget\u001b[49m\u001b[43m(\u001b[49m\u001b[38;5;124;43m\"\u001b[39;49m\u001b[38;5;124;43mencoding_errors\u001b[39;49m\u001b[38;5;124;43m\"\u001b[39;49m\u001b[43m,\u001b[49m\u001b[43m \u001b[49m\u001b[38;5;124;43m\"\u001b[39;49m\u001b[38;5;124;43mstrict\u001b[39;49m\u001b[38;5;124;43m\"\u001b[39;49m\u001b[43m)\u001b[49m\u001b[43m,\u001b[49m\n\u001b[1;32m   1743\u001b[0m \u001b[43m    \u001b[49m\u001b[43mstorage_options\u001b[49m\u001b[38;5;241;43m=\u001b[39;49m\u001b[38;5;28;43mself\u001b[39;49m\u001b[38;5;241;43m.\u001b[39;49m\u001b[43moptions\u001b[49m\u001b[38;5;241;43m.\u001b[39;49m\u001b[43mget\u001b[49m\u001b[43m(\u001b[49m\u001b[38;5;124;43m\"\u001b[39;49m\u001b[38;5;124;43mstorage_options\u001b[39;49m\u001b[38;5;124;43m\"\u001b[39;49m\u001b[43m,\u001b[49m\u001b[43m \u001b[49m\u001b[38;5;28;43;01mNone\u001b[39;49;00m\u001b[43m)\u001b[49m\u001b[43m,\u001b[49m\n\u001b[1;32m   1744\u001b[0m \u001b[43m\u001b[49m\u001b[43m)\u001b[49m\n\u001b[1;32m   1745\u001b[0m \u001b[38;5;28;01massert\u001b[39;00m \u001b[38;5;28mself\u001b[39m\u001b[38;5;241m.\u001b[39mhandles \u001b[38;5;129;01mis\u001b[39;00m \u001b[38;5;129;01mnot\u001b[39;00m \u001b[38;5;28;01mNone\u001b[39;00m\n\u001b[1;32m   1746\u001b[0m f \u001b[38;5;241m=\u001b[39m \u001b[38;5;28mself\u001b[39m\u001b[38;5;241m.\u001b[39mhandles\u001b[38;5;241m.\u001b[39mhandle\n",
      "File \u001b[0;32m/opt/conda/lib/python3.10/site-packages/pandas/io/common.py:856\u001b[0m, in \u001b[0;36mget_handle\u001b[0;34m(path_or_buf, mode, encoding, compression, memory_map, is_text, errors, storage_options)\u001b[0m\n\u001b[1;32m    851\u001b[0m \u001b[38;5;28;01melif\u001b[39;00m \u001b[38;5;28misinstance\u001b[39m(handle, \u001b[38;5;28mstr\u001b[39m):\n\u001b[1;32m    852\u001b[0m     \u001b[38;5;66;03m# Check whether the filename is to be opened in binary mode.\u001b[39;00m\n\u001b[1;32m    853\u001b[0m     \u001b[38;5;66;03m# Binary mode does not support 'encoding' and 'newline'.\u001b[39;00m\n\u001b[1;32m    854\u001b[0m     \u001b[38;5;28;01mif\u001b[39;00m ioargs\u001b[38;5;241m.\u001b[39mencoding \u001b[38;5;129;01mand\u001b[39;00m \u001b[38;5;124m\"\u001b[39m\u001b[38;5;124mb\u001b[39m\u001b[38;5;124m\"\u001b[39m \u001b[38;5;129;01mnot\u001b[39;00m \u001b[38;5;129;01min\u001b[39;00m ioargs\u001b[38;5;241m.\u001b[39mmode:\n\u001b[1;32m    855\u001b[0m         \u001b[38;5;66;03m# Encoding\u001b[39;00m\n\u001b[0;32m--> 856\u001b[0m         handle \u001b[38;5;241m=\u001b[39m \u001b[38;5;28;43mopen\u001b[39;49m\u001b[43m(\u001b[49m\n\u001b[1;32m    857\u001b[0m \u001b[43m            \u001b[49m\u001b[43mhandle\u001b[49m\u001b[43m,\u001b[49m\n\u001b[1;32m    858\u001b[0m \u001b[43m            \u001b[49m\u001b[43mioargs\u001b[49m\u001b[38;5;241;43m.\u001b[39;49m\u001b[43mmode\u001b[49m\u001b[43m,\u001b[49m\n\u001b[1;32m    859\u001b[0m \u001b[43m            \u001b[49m\u001b[43mencoding\u001b[49m\u001b[38;5;241;43m=\u001b[39;49m\u001b[43mioargs\u001b[49m\u001b[38;5;241;43m.\u001b[39;49m\u001b[43mencoding\u001b[49m\u001b[43m,\u001b[49m\n\u001b[1;32m    860\u001b[0m \u001b[43m            \u001b[49m\u001b[43merrors\u001b[49m\u001b[38;5;241;43m=\u001b[39;49m\u001b[43merrors\u001b[49m\u001b[43m,\u001b[49m\n\u001b[1;32m    861\u001b[0m \u001b[43m            \u001b[49m\u001b[43mnewline\u001b[49m\u001b[38;5;241;43m=\u001b[39;49m\u001b[38;5;124;43m\"\u001b[39;49m\u001b[38;5;124;43m\"\u001b[39;49m\u001b[43m,\u001b[49m\n\u001b[1;32m    862\u001b[0m \u001b[43m        \u001b[49m\u001b[43m)\u001b[49m\n\u001b[1;32m    863\u001b[0m     \u001b[38;5;28;01melse\u001b[39;00m:\n\u001b[1;32m    864\u001b[0m         \u001b[38;5;66;03m# Binary mode\u001b[39;00m\n\u001b[1;32m    865\u001b[0m         handle \u001b[38;5;241m=\u001b[39m \u001b[38;5;28mopen\u001b[39m(handle, ioargs\u001b[38;5;241m.\u001b[39mmode)\n",
      "\u001b[0;31mFileNotFoundError\u001b[0m: [Errno 2] No such file or directory: 'MMADataset2023/ufc_event_data.csv'"
     ]
    }
   ],
   "source": [
    "event_data = pd.read_csv('MMADataset2023/ufc_event_data.csv')\n",
    "fight_data = pd.read_csv('MMADataset2023/ufc_fight_data.csv')\n",
    "fight_stat_data = pd.read_csv('MMADataset2023/ufc_fight_stat_data.csv')\n",
    "fighter_data = pd.read_csv('MMADataset2023/ufc_fighter_data.csv')"
   ]
  },
  {
   "cell_type": "code",
   "execution_count": 3,
   "id": "2e04838f-3d7d-431e-9926-88347afb608e",
   "metadata": {},
   "outputs": [
    {
     "name": "stdout",
     "output_type": "stream",
     "text": [
      "Event Data:\n"
     ]
    },
    {
     "ename": "NameError",
     "evalue": "name 'event_data' is not defined",
     "output_type": "error",
     "traceback": [
      "\u001b[0;31m---------------------------------------------------------------------------\u001b[0m",
      "\u001b[0;31mNameError\u001b[0m                                 Traceback (most recent call last)",
      "Cell \u001b[0;32mIn[3], line 2\u001b[0m\n\u001b[1;32m      1\u001b[0m \u001b[38;5;28mprint\u001b[39m(\u001b[38;5;124m\"\u001b[39m\u001b[38;5;124mEvent Data:\u001b[39m\u001b[38;5;124m\"\u001b[39m)\n\u001b[0;32m----> 2\u001b[0m display(\u001b[43mevent_data\u001b[49m\u001b[38;5;241m.\u001b[39mhead())\n\u001b[1;32m      4\u001b[0m \u001b[38;5;28mprint\u001b[39m(\u001b[38;5;124m\"\u001b[39m\u001b[38;5;124mFight Data:\u001b[39m\u001b[38;5;124m\"\u001b[39m)\n\u001b[1;32m      5\u001b[0m display(fight_data\u001b[38;5;241m.\u001b[39mhead())\n",
      "\u001b[0;31mNameError\u001b[0m: name 'event_data' is not defined"
     ]
    }
   ],
   "source": [
    "print(\"Event Data:\")\n",
    "display(event_data.head())\n",
    "\n",
    "print(\"Fight Data:\")\n",
    "display(fight_data.head())\n",
    "\n",
    "print(\"Fight Stat Data:\")\n",
    "display(fight_stat_data.head())\n",
    "\n",
    "print(\"Fighter Data:\")\n",
    "display(fighter_data.head())"
   ]
  },
  {
   "cell_type": "code",
   "execution_count": null,
   "id": "231e43c5-9217-40b6-acc1-54e6d45d4fa7",
   "metadata": {},
   "outputs": [],
   "source": []
  },
  {
   "cell_type": "markdown",
   "id": "e8c25092-d34c-46dd-b75f-3efe9b17458a",
   "metadata": {},
   "source": [
    "## Explore the Data"
   ]
  },
  {
   "cell_type": "code",
   "execution_count": 173,
   "id": "865de890-063a-4d1a-b1af-01e46291bfb4",
   "metadata": {},
   "outputs": [
    {
     "name": "stdout",
     "output_type": "stream",
     "text": [
      "Event Data Shape: (665, 7)\n",
      "Fight Data Shape: (7218, 15)\n",
      "Fight Stat Data Shape: (14436, 14)\n",
      "Fighter Data Shape: (4107, 14)\n"
     ]
    }
   ],
   "source": [
    "print(\"Event Data Shape:\", event_data.shape)\n",
    "print(\"Fight Data Shape:\", fight_data.shape)\n",
    "print(\"Fight Stat Data Shape:\", fight_stat_data.shape)\n",
    "print(\"Fighter Data Shape:\", fighter_data.shape)"
   ]
  },
  {
   "cell_type": "markdown",
   "id": "e78fbbee-38e3-4a32-b149-a7dc6c9c72d1",
   "metadata": {},
   "source": [
    "### Null values and data types"
   ]
  },
  {
   "cell_type": "code",
   "execution_count": 174,
   "id": "f286600a-123d-480b-85c1-bbed7cde0b01",
   "metadata": {},
   "outputs": [
    {
     "name": "stdout",
     "output_type": "stream",
     "text": [
      "<class 'pandas.core.frame.DataFrame'>\n",
      "RangeIndex: 665 entries, 0 to 664\n",
      "Data columns (total 7 columns):\n",
      " #   Column         Non-Null Count  Dtype \n",
      "---  ------         --------------  ----- \n",
      " 0   event_id       665 non-null    int64 \n",
      " 1   event_name     665 non-null    object\n",
      " 2   event_date     665 non-null    object\n",
      " 3   event_city     665 non-null    object\n",
      " 4   event_state    616 non-null    object\n",
      " 5   event_country  665 non-null    object\n",
      " 6   event_url      665 non-null    object\n",
      "dtypes: int64(1), object(6)\n",
      "memory usage: 36.5+ KB\n",
      "<class 'pandas.core.frame.DataFrame'>\n",
      "RangeIndex: 7218 entries, 0 to 7217\n",
      "Data columns (total 15 columns):\n",
      " #   Column          Non-Null Count  Dtype  \n",
      "---  ------          --------------  -----  \n",
      " 0   fight_id        7218 non-null   int64  \n",
      " 1   event_id        7218 non-null   int64  \n",
      " 2   referee         7186 non-null   object \n",
      " 3   f_1             7199 non-null   float64\n",
      " 4   f_2             7205 non-null   float64\n",
      " 5   winner          7203 non-null   float64\n",
      " 6   num_rounds      7218 non-null   object \n",
      " 7   title_fight     7218 non-null   object \n",
      " 8   weight_class    7205 non-null   object \n",
      " 9   gender          7218 non-null   object \n",
      " 10  result          7218 non-null   object \n",
      " 11  result_details  7201 non-null   object \n",
      " 12  finish_round    7218 non-null   int64  \n",
      " 13  finish_time     7218 non-null   object \n",
      " 14  fight_url       7218 non-null   object \n",
      "dtypes: float64(3), int64(3), object(9)\n",
      "memory usage: 846.0+ KB\n",
      "<class 'pandas.core.frame.DataFrame'>\n",
      "RangeIndex: 14436 entries, 0 to 14435\n",
      "Data columns (total 14 columns):\n",
      " #   Column              Non-Null Count  Dtype  \n",
      "---  ------              --------------  -----  \n",
      " 0   fight_stat_id       14436 non-null  int64  \n",
      " 1   fight_id            14436 non-null  int64  \n",
      " 2   fighter_id          14404 non-null  float64\n",
      " 3   knockdowns          14394 non-null  float64\n",
      " 4   total_strikes_att   14394 non-null  float64\n",
      " 5   total_strikes_succ  14394 non-null  float64\n",
      " 6   sig_strikes_att     14394 non-null  float64\n",
      " 7   sig_strikes_succ    14394 non-null  float64\n",
      " 8   takedown_att        14394 non-null  float64\n",
      " 9   takedown_succ       14394 non-null  float64\n",
      " 10  submission_att      14394 non-null  float64\n",
      " 11  reversals           14394 non-null  float64\n",
      " 12  ctrl_time           14394 non-null  object \n",
      " 13  fight_url           14436 non-null  object \n",
      "dtypes: float64(10), int64(2), object(2)\n",
      "memory usage: 1.5+ MB\n",
      "<class 'pandas.core.frame.DataFrame'>\n",
      "RangeIndex: 4107 entries, 0 to 4106\n",
      "Data columns (total 14 columns):\n",
      " #   Column              Non-Null Count  Dtype  \n",
      "---  ------              --------------  -----  \n",
      " 0   fighter_id          4107 non-null   int64  \n",
      " 1   fighter_f_name      4107 non-null   object \n",
      " 2   fighter_l_name      4092 non-null   object \n",
      " 3   fighter_nickname    2250 non-null   object \n",
      " 4   fighter_height_cm   3797 non-null   float64\n",
      " 5   fighter_weight_lbs  4020 non-null   float64\n",
      " 6   fighter_reach_cm    2166 non-null   float64\n",
      " 7   fighter_stance      3273 non-null   object \n",
      " 8   fighter_dob         3349 non-null   object \n",
      " 9   fighter_w           4107 non-null   int64  \n",
      " 10  fighter_l           4107 non-null   int64  \n",
      " 11  fighter_d           4107 non-null   int64  \n",
      " 12  fighter_nc_dq       482 non-null    float64\n",
      " 13  fighter_url         4107 non-null   object \n",
      "dtypes: float64(4), int64(4), object(6)\n",
      "memory usage: 449.3+ KB\n"
     ]
    }
   ],
   "source": [
    "event_data.info()\n",
    "fight_data.info()\n",
    "fight_stat_data.info()\n",
    "fighter_data.info()"
   ]
  },
  {
   "cell_type": "code",
   "execution_count": 175,
   "id": "aeec84f1-2b99-4881-b4b5-922de71ebf61",
   "metadata": {},
   "outputs": [
    {
     "name": "stdout",
     "output_type": "stream",
     "text": [
      "event_id          0\n",
      "event_name        0\n",
      "event_date        0\n",
      "event_city        0\n",
      "event_state      49\n",
      "event_country     0\n",
      "event_url         0\n",
      "dtype: int64\n"
     ]
    }
   ],
   "source": [
    "print(event_data.isnull().sum())"
   ]
  },
  {
   "cell_type": "code",
   "execution_count": 176,
   "id": "cb91a90f-6b18-49b0-8d7d-308dc3f5c50d",
   "metadata": {},
   "outputs": [
    {
     "name": "stdout",
     "output_type": "stream",
     "text": [
      "fight_id           0\n",
      "event_id           0\n",
      "referee           32\n",
      "f_1               19\n",
      "f_2               13\n",
      "winner            15\n",
      "num_rounds         0\n",
      "title_fight        0\n",
      "weight_class      13\n",
      "gender             0\n",
      "result             0\n",
      "result_details    17\n",
      "finish_round       0\n",
      "finish_time        0\n",
      "fight_url          0\n",
      "dtype: int64\n"
     ]
    }
   ],
   "source": [
    "print(fight_data.isnull().sum())"
   ]
  },
  {
   "cell_type": "code",
   "execution_count": 177,
   "id": "5a51e496-ec42-4c03-9390-351190d162fb",
   "metadata": {},
   "outputs": [
    {
     "name": "stdout",
     "output_type": "stream",
     "text": [
      "fight_stat_id          0\n",
      "fight_id               0\n",
      "fighter_id            32\n",
      "knockdowns            42\n",
      "total_strikes_att     42\n",
      "total_strikes_succ    42\n",
      "sig_strikes_att       42\n",
      "sig_strikes_succ      42\n",
      "takedown_att          42\n",
      "takedown_succ         42\n",
      "submission_att        42\n",
      "reversals             42\n",
      "ctrl_time             42\n",
      "fight_url              0\n",
      "dtype: int64\n"
     ]
    }
   ],
   "source": [
    "print(fight_stat_data.isnull().sum())"
   ]
  },
  {
   "cell_type": "code",
   "execution_count": 178,
   "id": "8b92bbe2-5942-471a-87e0-287bbeba2607",
   "metadata": {},
   "outputs": [
    {
     "name": "stdout",
     "output_type": "stream",
     "text": [
      "fighter_id               0\n",
      "fighter_f_name           0\n",
      "fighter_l_name          15\n",
      "fighter_nickname      1857\n",
      "fighter_height_cm      310\n",
      "fighter_weight_lbs      87\n",
      "fighter_reach_cm      1941\n",
      "fighter_stance         834\n",
      "fighter_dob            758\n",
      "fighter_w                0\n",
      "fighter_l                0\n",
      "fighter_d                0\n",
      "fighter_nc_dq         3625\n",
      "fighter_url              0\n",
      "dtype: int64\n"
     ]
    }
   ],
   "source": [
    "print(fighter_data.isnull().sum())"
   ]
  },
  {
   "cell_type": "markdown",
   "id": "d356bdd8-e4b0-4c91-9814-2690f580f0ca",
   "metadata": {},
   "source": [
    "## Remove Duplicates"
   ]
  },
  {
   "cell_type": "code",
   "execution_count": 179,
   "id": "4490b8b9-e004-4889-b083-4d5c409f9b04",
   "metadata": {},
   "outputs": [],
   "source": [
    "event_duplicates = event_data.duplicated().sum()\n",
    "fight_duplicates = fight_data.duplicated().sum()\n",
    "fight_stat_duplicates = fight_stat_data.duplicated().sum()\n",
    "fighter_duplicates = fighter_data.duplicated().sum()"
   ]
  },
  {
   "cell_type": "code",
   "execution_count": 180,
   "id": "f0d215d8-9750-4bd2-a3f9-0a2028d0213e",
   "metadata": {},
   "outputs": [
    {
     "name": "stdout",
     "output_type": "stream",
     "text": [
      "Number of duplicate rows in Event Data: 0\n",
      "Number of duplicate rows in Fight Data: 0\n",
      "Number of duplicate rows in Fight Stat Data: 0\n",
      "Number of duplicate rows in Fighter Data: 0\n"
     ]
    }
   ],
   "source": [
    "print(\"Number of duplicate rows in Event Data:\", event_duplicates)\n",
    "print(\"Number of duplicate rows in Fight Data:\", fight_duplicates)\n",
    "print(\"Number of duplicate rows in Fight Stat Data:\", fight_stat_duplicates)\n",
    "print(\"Number of duplicate rows in Fighter Data:\", fighter_duplicates)"
   ]
  },
  {
   "cell_type": "code",
   "execution_count": 181,
   "id": "811c965a-ba34-4191-889d-2c2a0a62ea28",
   "metadata": {},
   "outputs": [],
   "source": [
    "event_data.drop_duplicates(inplace=True)\n",
    "fight_data.drop_duplicates(inplace=True)\n",
    "fight_stat_data.drop_duplicates(inplace=True)\n",
    "fighter_data.drop_duplicates(inplace=True)"
   ]
  },
  {
   "cell_type": "code",
   "execution_count": 182,
   "id": "3d8abfaf-4ea3-46a1-a653-fcfbaae94375",
   "metadata": {},
   "outputs": [
    {
     "name": "stdout",
     "output_type": "stream",
     "text": [
      "Updated Event Data Shape: (665, 7)\n",
      "Updated Fight Data Shape: (7218, 15)\n",
      "Updated Fight Stat Data Shape: (14436, 14)\n",
      "Updated Fighter Data Shape: (4107, 14)\n"
     ]
    }
   ],
   "source": [
    "print(\"Updated Event Data Shape:\", event_data.shape)\n",
    "print(\"Updated Fight Data Shape:\", fight_data.shape)\n",
    "print(\"Updated Fight Stat Data Shape:\", fight_stat_data.shape)\n",
    "print(\"Updated Fighter Data Shape:\", fighter_data.shape)"
   ]
  },
  {
   "cell_type": "markdown",
   "id": "0f015bb9-db49-4f0f-ac99-275b7dc47966",
   "metadata": {},
   "source": [
    "### There do not seem to be any duplicates but running it just in case."
   ]
  },
  {
   "cell_type": "code",
   "execution_count": null,
   "id": "a6c513eb-8a36-45b9-9098-3eacb093a446",
   "metadata": {},
   "outputs": [],
   "source": []
  },
  {
   "cell_type": "markdown",
   "id": "bba47996-bb34-4d74-b771-7f71a1b59632",
   "metadata": {},
   "source": [
    "# Assessment of critical vs non-critical values\n",
    "\n",
    "### event_data: \n",
    "- Non-Critical:\n",
    "     - event_state (49 missing) -> fill with \"Unknown\"\n",
    "     \n",
    "### fight_data: \n",
    "- Critical:\n",
    "    - f_1 (19 missing) -> drop\n",
    "    - f_2 (13 missing) -> drop\n",
    "    - winner (15 missing) -> drop\n",
    "    - weight_class (13 missing) -> drop\n",
    "- Non-Critical: \n",
    "    - referee (32 missing) -> fill with \"Unknown\"\n",
    "    - result_details (17 missing) -> fill with \"N/A\" \n",
    "        - \"Specific details of how the fight ended, e.g. KO by elbows, split decision\"\n",
    "\n",
    "### fight_stat_data:\n",
    "- Critical:\n",
    "    - fighter_id (32 missing) -> drop (can't link stats without fighter since its a foreign key) \n",
    "    - total_strikes_att (42 missing) -> drop (Performance metrics)\n",
    "    - total_strikes_succ (42 missing) -> drop\n",
    "    - sig_strikes_att (42) missing) -> drop\n",
    "    - sig_strikes_succ (42 missing) -> drop\n",
    "- Non-Critical: \n",
    "    - knockdowns (42 missing) -> fill with 0\n",
    "    - submission_att, reversals, ctrl_time (42 missing) -> fill with 0\n",
    "    \n",
    "### fighter_data:        \n",
    "- Critical:\n",
    "    - fighter_stance (834 missing) -> drop\n",
    "    - fighter_dob (758 missing) -> drop\n",
    "    - fighter_height_cm (310 missing) -> drop (maybe fill with median)\n",
    "    - fighter_weight_lbs (87 missing) -> drop (maybe fill with median)\n",
    "    - fighter_reach_cm (1941 missing) -> drop (maybe fill with median)\n",
    "- Non-Critical:\n",
    "    - fighter_l_name (15 missing) -> fill with \"Unknown\"\n",
    "    - fighter_nickname (1857 missing) -> fill with \"Unknown\"\n",
    "    - fighter_nc_dq (3625 missing) -> fill with 0 "
   ]
  },
  {
   "cell_type": "markdown",
   "id": "16ef8b08-579d-41cb-bb6d-0db70c9326e1",
   "metadata": {},
   "source": [
    "### Drop rows with critical missing values"
   ]
  },
  {
   "cell_type": "code",
   "execution_count": 183,
   "id": "eefc385b-62f3-4274-b9e4-aa646cb7aab9",
   "metadata": {},
   "outputs": [],
   "source": [
    "fight_data = fight_data.dropna(subset=['f_1', 'f_2', 'winner', 'weight_class'])\n",
    "\n",
    "\n",
    "fight_stat_data = fight_stat_data.dropna(subset=[\n",
    "    'fighter_id', 'total_strikes_att', 'total_strikes_succ',\n",
    "    'sig_strikes_att', 'sig_strikes_succ'\n",
    "])\n",
    "\n",
    "\n",
    "fighter_data = fighter_data.dropna(subset=['fighter_stance', 'fighter_dob'])"
   ]
  },
  {
   "cell_type": "markdown",
   "id": "87f894a5-8c92-4d4d-96c4-cae4a0cca630",
   "metadata": {},
   "source": [
    "### Fill non-critical missing values"
   ]
  },
  {
   "cell_type": "code",
   "execution_count": 184,
   "id": "21eba101-339f-406e-b755-6a7f5041b7f4",
   "metadata": {},
   "outputs": [],
   "source": [
    "event_data['event_state'].fillna('Unknown', inplace=True)\n",
    "\n",
    "\n",
    "fight_data['referee'].fillna('Unknown', inplace=True)\n",
    "fight_data['result_details'].fillna('N/A', inplace=True)\n",
    "\n",
    "\n",
    "fight_stat_data[['knockdowns', 'submission_att', 'reversals', 'ctrl_time']] = \\\n",
    "    fight_stat_data[['knockdowns', 'submission_att', 'reversals', 'ctrl_time']].fillna(0)\n",
    "\n",
    "\n",
    "fighter_data['fighter_l_name'].fillna('Unknown', inplace=True)\n",
    "fighter_data['fighter_nickname'].fillna('Unknown', inplace=True)\n",
    "fighter_data['fighter_nc_dq'].fillna(0, inplace=True)"
   ]
  },
  {
   "cell_type": "markdown",
   "id": "efd35e08-dabd-4e22-86c3-6455bc80ea5b",
   "metadata": {},
   "source": [
    "### If we want to fill with median: \n",
    "fighter_data['fighter_height_cm'].fillna(fighter_data['fighter_height_cm'].median(), inplace=True)\n",
    "fighter_data['fighter_weight_lbs'].fillna(fighter_data['fighter_weight_lbs'].median(), inplace=True)\n",
    "fighter_data['fighter_reach_cm'].fillna(fighter_data['fighter_reach_cm'].median(), inplace=True)\n"
   ]
  },
  {
   "cell_type": "code",
   "execution_count": null,
   "id": "60113304-c312-46bb-a14f-4edf1906eae4",
   "metadata": {},
   "outputs": [],
   "source": []
  },
  {
   "cell_type": "markdown",
   "id": "f9f093b1-8e02-4b10-bd65-e2c5ef312bff",
   "metadata": {},
   "source": [
    "## Standardize Column Names\n",
    "\n",
    "Make all column names lowercase and replace spaces with _ "
   ]
  },
  {
   "cell_type": "code",
   "execution_count": 185,
   "id": "08393620-bca2-47bc-94c1-135ebcfe5f57",
   "metadata": {},
   "outputs": [],
   "source": [
    "event_data.columns = event_data.columns.str.lower().str.replace(' ', '_')\n",
    "fight_data.columns = fight_data.columns.str.lower().str.replace(' ', '_')\n",
    "fight_stat_data.columns = fight_stat_data.columns.str.lower().str.replace(' ', '_')\n",
    "fighter_data.columns = fighter_data.columns.str.lower().str.replace(' ', '_')"
   ]
  },
  {
   "cell_type": "code",
   "execution_count": 186,
   "id": "ab0acf01-60c8-4227-a678-f3584e18cd50",
   "metadata": {},
   "outputs": [
    {
     "name": "stdout",
     "output_type": "stream",
     "text": [
      "Event Data Columns: ['event_id', 'event_name', 'event_date', 'event_city', 'event_state', 'event_country', 'event_url']\n",
      "Fight Data Columns: ['fight_id', 'event_id', 'referee', 'f_1', 'f_2', 'winner', 'num_rounds', 'title_fight', 'weight_class', 'gender', 'result', 'result_details', 'finish_round', 'finish_time', 'fight_url']\n",
      "Fight Stat Data Columns: ['fight_stat_id', 'fight_id', 'fighter_id', 'knockdowns', 'total_strikes_att', 'total_strikes_succ', 'sig_strikes_att', 'sig_strikes_succ', 'takedown_att', 'takedown_succ', 'submission_att', 'reversals', 'ctrl_time', 'fight_url']\n",
      "Fighter Data Columns: ['fighter_id', 'fighter_f_name', 'fighter_l_name', 'fighter_nickname', 'fighter_height_cm', 'fighter_weight_lbs', 'fighter_reach_cm', 'fighter_stance', 'fighter_dob', 'fighter_w', 'fighter_l', 'fighter_d', 'fighter_nc_dq', 'fighter_url']\n"
     ]
    }
   ],
   "source": [
    "print(\"Event Data Columns:\", list(event_data.columns))\n",
    "print(\"Fight Data Columns:\", list(fight_data.columns))\n",
    "print(\"Fight Stat Data Columns:\", list(fight_stat_data.columns))\n",
    "print(\"Fighter Data Columns:\", list(fighter_data.columns))"
   ]
  },
  {
   "cell_type": "code",
   "execution_count": null,
   "id": "f09383a6-ea5b-4f15-92ce-c7f6676ba81e",
   "metadata": {},
   "outputs": [],
   "source": []
  },
  {
   "cell_type": "markdown",
   "id": "c0a68c1d-34fc-4345-ad04-f7657ca49473",
   "metadata": {},
   "source": [
    "### Convert Data Types"
   ]
  },
  {
   "cell_type": "code",
   "execution_count": 187,
   "id": "5090e14e-6956-4c51-929b-40cc3ae365df",
   "metadata": {},
   "outputs": [],
   "source": [
    "if 'event_date' in event_data.columns:\n",
    "    event_data['event_date'] = pd.to_datetime(event_data['event_date'], errors='coerce')\n",
    "    \n",
    "    \n",
    "fight_data['f_1'] = fight_data['f_1'].astype(int, errors='ignore')\n",
    "fight_data['f_2'] = fight_data['f_2'].astype(int, errors='ignore')\n",
    "fight_data['fight_id'] = fight_data['fight_id'].astype(int, errors='ignore')\n",
    "fight_data['num_rounds'] = pd.to_numeric(fight_data['num_rounds'], errors='coerce').astype('Int64')\n",
    "\n",
    "\n",
    "fighter_data['fighter_height_cm'] = fighter_data['fighter_height_cm'].astype(float, errors='ignore')\n",
    "fighter_data['fighter_weight_lbs'] = fighter_data['fighter_weight_lbs'].astype(float, errors='ignore')\n",
    "fighter_data['fighter_reach_cm'] = fighter_data['fighter_reach_cm'].astype(float, errors='ignore')\n",
    "if 'fighter_dob' in fighter_data.columns:\n",
    "    fighter_data['fighter_dob'] = pd.to_datetime(fighter_data['fighter_dob'], errors='coerce')\n",
    "    \n",
    "    \n",
    "fight_stat_data['total_strikes_att'] = fight_stat_data['total_strikes_att'].astype(int, errors='ignore')\n",
    "fight_stat_data['total_strikes_succ'] = fight_stat_data['total_strikes_succ'].astype(int, errors='ignore')\n",
    "fight_stat_data['sig_strikes_att'] = fight_stat_data['sig_strikes_att'].astype(int, errors='ignore')\n",
    "fight_stat_data['sig_strikes_succ'] = fight_stat_data['sig_strikes_succ'].astype(int, errors='ignore')\n",
    "fight_stat_data['knockdowns'] = fight_stat_data['knockdowns'].astype(int, errors='ignore')\n",
    "fight_stat_data['submission_att'] = fight_stat_data['submission_att'].astype(int, errors='ignore')\n",
    "fight_stat_data['reversals'] = fight_stat_data['reversals'].astype(int, errors='ignore')\n",
    "fight_stat_data['ctrl_time'] = fight_stat_data['ctrl_time'].astype(int, errors='ignore')\n",
    "fight_stat_data['ctrl_time'] = pd.to_numeric(fight_stat_data['ctrl_time'], errors='coerce').astype('Int64')"
   ]
  },
  {
   "cell_type": "code",
   "execution_count": 188,
   "id": "bfc6286a-21aa-45cb-9217-d7d05a7b8c04",
   "metadata": {},
   "outputs": [
    {
     "name": "stdout",
     "output_type": "stream",
     "text": [
      "Event Data Types:\n",
      "event_id                  int64\n",
      "event_name               object\n",
      "event_date       datetime64[ns]\n",
      "event_city               object\n",
      "event_state              object\n",
      "event_country            object\n",
      "event_url                object\n",
      "dtype: object\n",
      "\n",
      "Fight Data Types:\n",
      "fight_id            int64\n",
      "event_id            int64\n",
      "referee            object\n",
      "f_1                 int64\n",
      "f_2                 int64\n",
      "winner            float64\n",
      "num_rounds          Int64\n",
      "title_fight        object\n",
      "weight_class       object\n",
      "gender             object\n",
      "result             object\n",
      "result_details     object\n",
      "finish_round        int64\n",
      "finish_time        object\n",
      "fight_url          object\n",
      "dtype: object\n",
      "\n",
      "Fight Stat Data Types:\n",
      "fight_stat_id           int64\n",
      "fight_id                int64\n",
      "fighter_id            float64\n",
      "knockdowns              int64\n",
      "total_strikes_att       int64\n",
      "total_strikes_succ      int64\n",
      "sig_strikes_att         int64\n",
      "sig_strikes_succ        int64\n",
      "takedown_att          float64\n",
      "takedown_succ         float64\n",
      "submission_att          int64\n",
      "reversals               int64\n",
      "ctrl_time               Int64\n",
      "fight_url              object\n",
      "dtype: object\n",
      "\n",
      "Fighter Data Types:\n",
      "fighter_id                     int64\n",
      "fighter_f_name                object\n",
      "fighter_l_name                object\n",
      "fighter_nickname              object\n",
      "fighter_height_cm            float64\n",
      "fighter_weight_lbs           float64\n",
      "fighter_reach_cm             float64\n",
      "fighter_stance                object\n",
      "fighter_dob           datetime64[ns]\n",
      "fighter_w                      int64\n",
      "fighter_l                      int64\n",
      "fighter_d                      int64\n",
      "fighter_nc_dq                float64\n",
      "fighter_url                   object\n",
      "dtype: object\n"
     ]
    }
   ],
   "source": [
    "print(\"Event Data Types:\")\n",
    "print(event_data.dtypes)\n",
    "\n",
    "print(\"\\nFight Data Types:\")\n",
    "print(fight_data.dtypes)\n",
    "\n",
    "print(\"\\nFight Stat Data Types:\")\n",
    "print(fight_stat_data.dtypes)\n",
    "\n",
    "print(\"\\nFighter Data Types:\")\n",
    "print(fighter_data.dtypes)"
   ]
  },
  {
   "cell_type": "code",
   "execution_count": null,
   "id": "f42bef69-283e-4e5a-a373-f6f623c35d1f",
   "metadata": {},
   "outputs": [],
   "source": []
  },
  {
   "cell_type": "markdown",
   "id": "669524ef-f41d-41c2-bc7c-87dda44238d5",
   "metadata": {},
   "source": [
    "## Drop irrelevant Columns\n",
    "\n",
    "### Relevant:\n",
    "1. ufc_events:\n",
    "    - event_id\n",
    "    - event_date\n",
    "    - event_country\n",
    "\n",
    "2. ufc_fights:\n",
    "    - fight_id\n",
    "    - event_id\n",
    "    - f_1\n",
    "    - f_2\n",
    "    - winner\n",
    "    - num_rounds\n",
    "    - title_fight\n",
    "    - weight_class\n",
    "    - gender\n",
    "    - result\n",
    "    - result_details\n",
    "    - finish_round\n",
    "    - finish_time\n",
    "\n",
    "3. ufc_fight_stats:\n",
    "    - fight_stat_id\n",
    "    - fight_id\n",
    "    - fighter_id\n",
    "    - knockdowns\n",
    "    - total_strikes_att\n",
    "    - total_strikes_succ\n",
    "    - sig_strikes_att\n",
    "    - sig_strikes_succ\n",
    "    - takedown_att\n",
    "    - takedown_succ\n",
    "    - submission_att\n",
    "    - reversals\n",
    "    - ctrl_time\n",
    "    - fighter_age\n",
    "    - winner\n",
    "\n",
    "4. ufc_fighters:\n",
    "    - fighter_id\n",
    "    - fighter_height_cm\n",
    "    - fighter_weight_lbs\n",
    "    - fighter_reach_cm\n",
    "    - fighter_stance\n",
    "    - fighter_dob\n",
    "    - fighter_w\n",
    "    - fighter_l\n",
    "    - fighter_d\n",
    "    - fighter_nc_dq\n",
    "\n",
    "### Irrelevant:\n",
    "1. ufc_events:\n",
    "    - event_name\n",
    "    - event_city\n",
    "    - event_state\n",
    "    - event_url\n",
    "\n",
    "2. ufc_fights:\n",
    "    - referee\n",
    "    - fight_url\n",
    "\n",
    "3. ufc_fight_stats:\n",
    "    - None\n",
    "\n",
    "4. ufc_fighters:\n",
    "    - fighter_f_name\n",
    "    - fighter_l_name\n",
    "    - fighter_nickname\n",
    "    - fighter_url"
   ]
  },
  {
   "cell_type": "code",
   "execution_count": 189,
   "id": "3b1e3129-d3d9-4417-b35b-5d77114913c4",
   "metadata": {},
   "outputs": [
    {
     "data": {
      "text/plain": [
       "{'event_data_columns': ['event_id', 'event_date', 'event_country'],\n",
       " 'fight_data_columns': ['fight_id',\n",
       "  'event_id',\n",
       "  'f_1',\n",
       "  'f_2',\n",
       "  'winner',\n",
       "  'num_rounds',\n",
       "  'title_fight',\n",
       "  'weight_class',\n",
       "  'gender',\n",
       "  'result',\n",
       "  'result_details',\n",
       "  'finish_round',\n",
       "  'finish_time'],\n",
       " 'fight_stat_data_columns': ['fight_stat_id',\n",
       "  'fight_id',\n",
       "  'fighter_id',\n",
       "  'knockdowns',\n",
       "  'total_strikes_att',\n",
       "  'total_strikes_succ',\n",
       "  'sig_strikes_att',\n",
       "  'sig_strikes_succ',\n",
       "  'takedown_att',\n",
       "  'takedown_succ',\n",
       "  'submission_att',\n",
       "  'reversals',\n",
       "  'ctrl_time',\n",
       "  'fight_url'],\n",
       " 'fighter_data_columns': ['fighter_id',\n",
       "  'fighter_height_cm',\n",
       "  'fighter_weight_lbs',\n",
       "  'fighter_reach_cm',\n",
       "  'fighter_stance',\n",
       "  'fighter_dob',\n",
       "  'fighter_w',\n",
       "  'fighter_l',\n",
       "  'fighter_d',\n",
       "  'fighter_nc_dq']}"
      ]
     },
     "execution_count": 189,
     "metadata": {},
     "output_type": "execute_result"
    }
   ],
   "source": [
    "event_columns_to_drop = ['event_name', 'event_city', 'event_state', 'event_url']\n",
    "fight_columns_to_drop = ['referee', 'fight_url']\n",
    "fighter_columns_to_drop = ['fighter_f_name', 'fighter_l_name', 'fighter_nickname', 'fighter_url']\n",
    "\n",
    "event_data.drop(columns=[col for col in event_columns_to_drop if col in event_data.columns], inplace=True)\n",
    "fight_data.drop(columns=[col for col in fight_columns_to_drop if col in fight_data.columns], inplace=True)\n",
    "fighter_data.drop(columns=[col for col in fighter_columns_to_drop if col in fighter_data.columns], inplace=True)\n",
    "\n",
    "{\n",
    "    \"event_data_columns\": event_data.columns.tolist(),\n",
    "    \"fight_data_columns\": fight_data.columns.tolist(),\n",
    "    \"fight_stat_data_columns\": fight_stat_data.columns.tolist(),\n",
    "    \"fighter_data_columns\": fighter_data.columns.tolist()\n",
    "}"
   ]
  },
  {
   "cell_type": "code",
   "execution_count": null,
   "id": "443ba6b0-d9a4-424d-955b-3f40ef99db74",
   "metadata": {},
   "outputs": [],
   "source": []
  },
  {
   "cell_type": "markdown",
   "id": "c225f8fe-ffac-454b-830c-62ffe04457cb",
   "metadata": {},
   "source": [
    "## Key Consistency Across Datasets\n",
    "\n",
    "1. Verify fight_id values in fight_stat_data exist in fight_data \n",
    "    - remove records in fight_stat_data that don't have entries in fight_data\n",
    "2. all fighter_id values in fight_stat_data exists in fighter_data\n",
    "    - handle missing fighter_id records in fighter_data \n",
    "3. remove duplicates based on primary keys (event_id, fight_id, fight_stat_id, fighter_id) \n",
    "4. Foreign key dependencies:\n",
    "    - event_id in fight_data exists in event_data\n",
    "    - fight_id in fight_stat_data has corresponding entries in fight_data\n",
    "    - fighter_id in fight_stat_data maps correctly to fighters in fighter_data\n",
    "5. Data type consistency across fight_id, fighter_id, and event_id\n",
    "6. Missing key Relations\n",
    "    - if fighter_id or fight_id is missing drop those rows from dependent datatset (fight_stat_data) "
   ]
  },
  {
   "cell_type": "code",
   "execution_count": 190,
   "id": "7343030c-4e1b-4a45-ac03-ade56e7211d0",
   "metadata": {},
   "outputs": [],
   "source": [
    "valid_fight_ids = fight_data['fight_id'].unique()\n",
    "fight_stat_data = fight_stat_data[fight_stat_data['fight_id'].isin(valid_fight_ids)]\n",
    "\n",
    "valid_fighter_ids = fighter_data['fighter_id'].unique()\n",
    "fight_stat_data = fight_stat_data[fight_stat_data['fighter_id'].isin(valid_fighter_ids)]\n",
    "\n",
    "valid_event_ids = event_data['event_id'].unique()\n",
    "fight_data = fight_data[fight_data['event_id'].isin(valid_event_ids)]\n",
    "\n",
    "event_data.drop_duplicates(subset=['event_id'], inplace=True)\n",
    "fight_data.drop_duplicates(subset=['fight_id'], inplace=True)\n",
    "fight_stat_data.drop_duplicates(subset=['fight_stat_id'], inplace=True)\n",
    "fighter_data.drop_duplicates(subset=['fighter_id'], inplace=True)\n",
    "\n",
    "fight_data['fight_id'] = fight_data['fight_id'].astype(int)\n",
    "fight_stat_data['fight_id'] = fight_stat_data['fight_id'].astype(int)\n",
    "fighter_data['fighter_id'] = fighter_data['fighter_id'].astype(int)\n"
   ]
  },
  {
   "cell_type": "code",
   "execution_count": null,
   "id": "b06cdf95-831c-43f5-890e-bfbe9fd10c9f",
   "metadata": {},
   "outputs": [],
   "source": []
  },
  {
   "cell_type": "markdown",
   "id": "ea16147c-562b-4efd-a78e-7aec7a447fd0",
   "metadata": {},
   "source": [
    "### Outlier Detection"
   ]
  },
  {
   "cell_type": "code",
   "execution_count": 194,
   "id": "df16e34e-aa17-4f9c-806f-e7d2da23c97b",
   "metadata": {},
   "outputs": [
    {
     "name": "stdout",
     "output_type": "stream",
     "text": [
      "Average values for fight_stat_data:\n",
      "knockdowns              0.218572\n",
      "total_strikes_att     102.333452\n",
      "total_strikes_succ     54.221351\n",
      "sig_strikes_att        81.891819\n",
      "sig_strikes_succ       36.236958\n",
      "takedown_att              2.8249\n",
      "takedown_succ           1.069128\n",
      "submission_att          0.394598\n",
      "reversals               0.135048\n",
      "ctrl_time                   <NA>\n",
      "dtype: object \n",
      "\n",
      "Average values for fighter_data:\n",
      "fighter_height_cm     178.156597\n",
      "fighter_weight_lbs    168.623438\n",
      "fighter_reach_cm      181.846719\n",
      "fighter_w              14.122256\n",
      "fighter_l               5.964539\n",
      "fighter_d               0.270854\n",
      "fighter_nc_dq           0.153664\n",
      "dtype: float64 \n",
      "\n",
      "Average values for fight_data:\n",
      "num_rounds      3.130021\n",
      "finish_round    2.333333\n",
      "dtype: float64 \n",
      "\n"
     ]
    }
   ],
   "source": [
    "fight_stat_columns = ['knockdowns', 'total_strikes_att', 'total_strikes_succ', 'sig_strikes_att', \n",
    "                      'sig_strikes_succ', 'takedown_att', 'takedown_succ', 'submission_att', \n",
    "                      'reversals', 'ctrl_time']\n",
    "fighter_data_columns = ['fighter_height_cm', 'fighter_weight_lbs', 'fighter_reach_cm', \n",
    "                        'fighter_w', 'fighter_l', 'fighter_d', 'fighter_nc_dq']\n",
    "fight_data_columns = ['num_rounds', 'finish_round', 'finish_time']\n",
    "\n",
    "def print_column_averages(df, columns, dataset_name):\n",
    "    averages = df[columns].mean(numeric_only=True)  \n",
    "    print(f\"Average values for {dataset_name}:\")\n",
    "    print(averages, \"\\n\")\n",
    "    \n",
    "print_column_averages(fight_stat_data, fight_stat_columns, \"fight_stat_data\")\n",
    "print_column_averages(fighter_data, fighter_data_columns, \"fighter_data\")\n",
    "print_column_averages(fight_data, fight_data_columns, \"fight_data\")"
   ]
  },
  {
   "cell_type": "code",
   "execution_count": 204,
   "id": "4d7fc1ec-99f6-40a5-9440-06229fc9c06f",
   "metadata": {},
   "outputs": [
    {
     "name": "stdout",
     "output_type": "stream",
     "text": [
      "Average values for fight_stat_data (no outliers):\n",
      "knockdowns                  0.0\n",
      "total_strikes_att     90.698296\n",
      "total_strikes_succ    46.003915\n",
      "sig_strikes_att        73.55562\n",
      "sig_strikes_succ      30.933211\n",
      "takedown_att           2.457393\n",
      "takedown_succ           0.86596\n",
      "submission_att         0.272225\n",
      "reversals                   0.0\n",
      "ctrl_time                  <NA>\n",
      "dtype: object \n",
      "\n",
      "Average values for fighter_data (no outliers):\n",
      "fighter_height_cm     176.717575\n",
      "fighter_weight_lbs    156.381436\n",
      "fighter_reach_cm      181.004255\n",
      "fighter_w              12.649729\n",
      "fighter_l               4.587398\n",
      "fighter_d               0.000000\n",
      "fighter_nc_dq           0.000000\n",
      "dtype: float64 \n",
      "\n",
      "Average values for fight_data (no outliers):\n",
      "num_rounds      3.130021\n",
      "finish_round    2.333333\n",
      "dtype: float64 \n",
      "\n"
     ]
    }
   ],
   "source": [
    "\n",
    "def remove_outliers(df, columns):\n",
    "    for col in columns:\n",
    "        if df[col].dtype in [np.float64, np.int64]:\n",
    "            Q1 = df[col].quantile(0.25)\n",
    "            Q3 = df[col].quantile(0.75)\n",
    "            IQR = Q3 - Q1\n",
    "            lower_bound = Q1 - 1.5 * IQR\n",
    "            upper_bound = Q3 + 1.5 * IQR\n",
    "            df = df[(df[col] >= lower_bound) & (df[col] <= upper_bound)]\n",
    "    return df\n",
    "\n",
    "# Remove outliers from fight_stat_data, fighter_data, and fight_data\n",
    "fight_stat_columns = ['knockdowns', 'total_strikes_att', 'total_strikes_succ', 'sig_strikes_att', \n",
    "                      'sig_strikes_succ', 'takedown_att', 'takedown_succ', 'submission_att', \n",
    "                      'reversals', 'ctrl_time']\n",
    "fighter_data_columns = ['fighter_height_cm', 'fighter_weight_lbs', 'fighter_reach_cm', \n",
    "                        'fighter_w', 'fighter_l', 'fighter_d', 'fighter_nc_dq']\n",
    "fight_data_columns = ['num_rounds', 'finish_round', 'finish_time']\n",
    "\n",
    "df_fight_stat_data_no_outliers = remove_outliers(fight_stat_data, fight_stat_columns)\n",
    "df_fighter_data_no_outliers = remove_outliers(fighter_data, fighter_data_columns)\n",
    "df_fight_data_no_outliers = remove_outliers(fight_data, fight_data_columns)\n",
    "\n",
    "# Print average values after removing outliers\n",
    "print_column_averages(df_fight_stat_data_no_outliers, fight_stat_columns, \"fight_stat_data (no outliers)\")\n",
    "print_column_averages(df_fighter_data_no_outliers, fighter_data_columns, \"fighter_data (no outliers)\")\n",
    "print_column_averages(df_fight_data_no_outliers, fight_data_columns, \"fight_data (no outliers)\")\n"
   ]
  },
  {
   "cell_type": "code",
   "execution_count": null,
   "id": "5a2e98fa-f6d2-4946-aedb-6c80a27d4764",
   "metadata": {},
   "outputs": [],
   "source": []
  },
  {
   "cell_type": "code",
   "execution_count": null,
   "id": "6a643141-ca91-414d-bdb3-5207a745231d",
   "metadata": {},
   "outputs": [],
   "source": []
  },
  {
   "cell_type": "markdown",
   "id": "aced8a9f-52d9-45cd-ac45-314360710ff2",
   "metadata": {},
   "source": [
    "## Save Cleaned Dataset"
   ]
  },
  {
   "cell_type": "code",
   "execution_count": 205,
   "id": "a65c3d37-2ea2-4913-a71b-210b17a8c4c8",
   "metadata": {},
   "outputs": [],
   "source": [
    "event_data.to_csv('Cleaned Dataset/cleaned_ufc_event_data.csv', index=False)\n",
    "fight_data.to_csv('Cleaned Dataset/cleaned_ufc_fight_data.csv', index=False)\n",
    "fight_stat_data.to_csv('Cleaned Dataset/cleaned_ufc_fight_stat_data.csv', index=False)\n",
    "fighter_data.to_csv('Cleaned Dataset/cleaned_ufc_fighter_data.csv', index=False)"
   ]
  },
  {
   "cell_type": "code",
   "execution_count": null,
   "id": "4f7724ca-acac-4895-a8cc-705c5190fe6d",
   "metadata": {},
   "outputs": [],
   "source": []
  },
  {
   "cell_type": "code",
   "execution_count": null,
   "id": "c384f350-c905-4f2c-9cff-fe6fb453147d",
   "metadata": {},
   "outputs": [],
   "source": []
  }
 ],
 "metadata": {
  "kernelspec": {
   "display_name": "Python 3 (ipykernel)",
   "language": "python",
   "name": "python3"
  },
  "language_info": {
   "codemirror_mode": {
    "name": "ipython",
    "version": 3
   },
   "file_extension": ".py",
   "mimetype": "text/x-python",
   "name": "python",
   "nbconvert_exporter": "python",
   "pygments_lexer": "ipython3",
   "version": "3.10.8"
  }
 },
 "nbformat": 4,
 "nbformat_minor": 5
}
