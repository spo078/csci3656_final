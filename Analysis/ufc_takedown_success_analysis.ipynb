{
 "cells": [
  {
   "cell_type": "code",
   "execution_count": 3,
   "id": "4893c6ed",
   "metadata": {},
   "outputs": [
    {
     "name": "stderr",
     "output_type": "stream",
     "text": [
      "/tmp/ipykernel_45486/114472553.py:29: FutureWarning: The default of observed=False is deprecated and will be changed to True in a future version of pandas. Pass observed=False to retain current behavior or observed=True to adopt the future default and silence this warning.\n",
      "  grouped = merged_df.groupby('weight_bin')['takedown_success_rate'].mean().reset_index()\n"
     ]
    },
    {
     "ename": "TypeError",
     "evalue": "simpson() takes 1 positional argument but 2 were given",
     "output_type": "error",
     "traceback": [
      "\u001b[0;31m---------------------------------------------------------------------------\u001b[0m",
      "\u001b[0;31mTypeError\u001b[0m                                 Traceback (most recent call last)",
      "Cell \u001b[0;32mIn[3], line 35\u001b[0m\n\u001b[1;32m     33\u001b[0m x \u001b[38;5;241m=\u001b[39m grouped[\u001b[38;5;124m'\u001b[39m\u001b[38;5;124mweight_mid\u001b[39m\u001b[38;5;124m'\u001b[39m]\u001b[38;5;241m.\u001b[39mvalues\n\u001b[1;32m     34\u001b[0m y \u001b[38;5;241m=\u001b[39m grouped[\u001b[38;5;124m'\u001b[39m\u001b[38;5;124mtakedown_success_rate\u001b[39m\u001b[38;5;124m'\u001b[39m]\u001b[38;5;241m.\u001b[39mvalues\n\u001b[0;32m---> 35\u001b[0m area \u001b[38;5;241m=\u001b[39m \u001b[43msimpson\u001b[49m\u001b[43m(\u001b[49m\u001b[43my\u001b[49m\u001b[43m,\u001b[49m\u001b[43m \u001b[49m\u001b[43mx\u001b[49m\u001b[43m)\u001b[49m\n\u001b[1;32m     36\u001b[0m \u001b[38;5;28mprint\u001b[39m(\u001b[38;5;124m\"\u001b[39m\u001b[38;5;124mArea under curve (Simpson’s Rule):\u001b[39m\u001b[38;5;124m\"\u001b[39m, area)\n\u001b[1;32m     38\u001b[0m \u001b[38;5;66;03m# Plot\u001b[39;00m\n",
      "\u001b[0;31mTypeError\u001b[0m: simpson() takes 1 positional argument but 2 were given"
     ]
    }
   ],
   "source": [
    "\n",
    "import pandas as pd\n",
    "import numpy as np\n",
    "import matplotlib.pyplot as plt\n",
    "from scipy.integrate import simpson\n",
    "\n",
    "# Load both fighter and fight stat datasets\n",
    "fighter_df = pd.read_csv(\"../Data Cleaning/cleaned data/cleaned_ufc_fighter_data.csv\")\n",
    "stat_df = pd.read_csv(\"../Data Cleaning/cleaned data/cleaned_ufc_fight_stat_data.csv\")\n",
    "\n",
    "# Merge on fighter_id\n",
    "merged_df = pd.merge(stat_df, fighter_df, on=\"fighter_id\")\n",
    "\n",
    "# Filter for realistic UFC weights\n",
    "merged_df = merged_df[(merged_df['fighter_weight_lbs'] >= 115) & (merged_df['fighter_weight_lbs'] <= 265)]\n",
    "\n",
    "# Drop rows with missing values for takedown analysis\n",
    "merged_df = merged_df.dropna(subset=['fighter_weight_lbs', 'takedown_succ', 'takedown_att'])\n",
    "merged_df = merged_df[merged_df['takedown_att'] > 0]  # Remove cases with 0 attempts\n",
    "\n",
    "# Compute takedown success rate\n",
    "merged_df['takedown_success_rate'] = merged_df['takedown_succ'] / merged_df['takedown_att']\n",
    "merged_df = merged_df.replace([np.inf, -np.inf], np.nan).dropna(subset=['takedown_success_rate'])\n",
    "\n",
    "# Bin weights\n",
    "bins = np.arange(115, 270, 10)\n",
    "merged_df['weight_bin'] = pd.cut(merged_df['fighter_weight_lbs'], bins)\n",
    "\n",
    "# Group by weight bin\n",
    "grouped = merged_df.groupby('weight_bin')['takedown_success_rate'].mean().reset_index()\n",
    "grouped['weight_mid'] = grouped['weight_bin'].apply(lambda x: x.mid)\n",
    "\n",
    "# Apply Simpson’s rule\n",
    "x = grouped['weight_mid'].values\n",
    "y = grouped['takedown_success_rate'].values\n",
    "area = simpson(y, x)\n",
    "print(\"Area under curve (Simpson’s Rule):\", area)\n",
    "\n",
    "# Plot\n",
    "plt.figure(figsize=(8, 5))\n",
    "plt.plot(x, y, marker='o', linestyle='-', color='navy', label='Avg Takedown Success Rate')\n",
    "plt.title(\"Average Takedown Success Rate by Fighter Weight\")\n",
    "plt.xlabel(\"Weight (lbs)\")\n",
    "plt.ylabel(\"Takedown Success Rate\")\n",
    "plt.grid(True)\n",
    "plt.legend()\n",
    "plt.savefig(\"figures/takedown_success_vs_weight.png\", dpi=300)\n",
    "plt.show()\n"
   ]
  }
 ],
 "metadata": {
  "kernelspec": {
   "display_name": "Python 3",
   "language": "python",
   "name": "python3"
  },
  "language_info": {
   "codemirror_mode": {
    "name": "ipython",
    "version": 3
   },
   "file_extension": ".py",
   "mimetype": "text/x-python",
   "name": "python",
   "nbconvert_exporter": "python",
   "pygments_lexer": "ipython3",
   "version": "3.10.12"
  }
 },
 "nbformat": 4,
 "nbformat_minor": 5
}
